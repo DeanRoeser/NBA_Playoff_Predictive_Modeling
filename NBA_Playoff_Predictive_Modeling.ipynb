{
  "nbformat": 4,
  "nbformat_minor": 0,
  "metadata": {
    "colab": {
      "provenance": []
    },
    "kernelspec": {
      "name": "python3",
      "display_name": "Python 3"
    },
    "language_info": {
      "name": "python"
    }
  },
  "cells": [
    {
      "cell_type": "markdown",
      "source": [
        "Import Data"
      ],
      "metadata": {
        "id": "HDbRSNkfrSyI"
      }
    },
    {
      "cell_type": "code",
      "execution_count": null,
      "metadata": {
        "colab": {
          "base_uri": "https://localhost:8080/"
        },
        "id": "C7yzzotKIvbA",
        "outputId": "f10de43e-2e42-49f6-809c-c3eb646abd33"
      },
      "outputs": [
        {
          "output_type": "stream",
          "name": "stdout",
          "text": [
            "Requirement already satisfied: keras_tuner in /usr/local/lib/python3.7/dist-packages (1.1.1)\n",
            "Requirement already satisfied: ipython in /usr/local/lib/python3.7/dist-packages (from keras_tuner) (5.5.0)\n",
            "Requirement already satisfied: numpy in /usr/local/lib/python3.7/dist-packages (from keras_tuner) (1.21.5)\n",
            "Requirement already satisfied: packaging in /usr/local/lib/python3.7/dist-packages (from keras_tuner) (21.3)\n",
            "Requirement already satisfied: tensorboard in /usr/local/lib/python3.7/dist-packages (from keras_tuner) (2.8.0)\n",
            "Requirement already satisfied: requests in /usr/local/lib/python3.7/dist-packages (from keras_tuner) (2.23.0)\n",
            "Requirement already satisfied: kt-legacy in /usr/local/lib/python3.7/dist-packages (from keras_tuner) (1.0.4)\n",
            "Requirement already satisfied: pickleshare in /usr/local/lib/python3.7/dist-packages (from ipython->keras_tuner) (0.7.5)\n",
            "Requirement already satisfied: simplegeneric>0.8 in /usr/local/lib/python3.7/dist-packages (from ipython->keras_tuner) (0.8.1)\n",
            "Requirement already satisfied: pexpect in /usr/local/lib/python3.7/dist-packages (from ipython->keras_tuner) (4.8.0)\n",
            "Requirement already satisfied: decorator in /usr/local/lib/python3.7/dist-packages (from ipython->keras_tuner) (4.4.2)\n",
            "Requirement already satisfied: setuptools>=18.5 in /usr/local/lib/python3.7/dist-packages (from ipython->keras_tuner) (57.4.0)\n",
            "Requirement already satisfied: pygments in /usr/local/lib/python3.7/dist-packages (from ipython->keras_tuner) (2.6.1)\n",
            "Requirement already satisfied: prompt-toolkit<2.0.0,>=1.0.4 in /usr/local/lib/python3.7/dist-packages (from ipython->keras_tuner) (1.0.18)\n",
            "Requirement already satisfied: traitlets>=4.2 in /usr/local/lib/python3.7/dist-packages (from ipython->keras_tuner) (5.1.1)\n",
            "Requirement already satisfied: wcwidth in /usr/local/lib/python3.7/dist-packages (from prompt-toolkit<2.0.0,>=1.0.4->ipython->keras_tuner) (0.2.5)\n",
            "Requirement already satisfied: six>=1.9.0 in /usr/local/lib/python3.7/dist-packages (from prompt-toolkit<2.0.0,>=1.0.4->ipython->keras_tuner) (1.15.0)\n",
            "Requirement already satisfied: pyparsing!=3.0.5,>=2.0.2 in /usr/local/lib/python3.7/dist-packages (from packaging->keras_tuner) (3.0.7)\n",
            "Requirement already satisfied: ptyprocess>=0.5 in /usr/local/lib/python3.7/dist-packages (from pexpect->ipython->keras_tuner) (0.7.0)\n",
            "Requirement already satisfied: certifi>=2017.4.17 in /usr/local/lib/python3.7/dist-packages (from requests->keras_tuner) (2021.10.8)\n",
            "Requirement already satisfied: idna<3,>=2.5 in /usr/local/lib/python3.7/dist-packages (from requests->keras_tuner) (2.10)\n",
            "Requirement already satisfied: urllib3!=1.25.0,!=1.25.1,<1.26,>=1.21.1 in /usr/local/lib/python3.7/dist-packages (from requests->keras_tuner) (1.24.3)\n",
            "Requirement already satisfied: chardet<4,>=3.0.2 in /usr/local/lib/python3.7/dist-packages (from requests->keras_tuner) (3.0.4)\n",
            "Requirement already satisfied: absl-py>=0.4 in /usr/local/lib/python3.7/dist-packages (from tensorboard->keras_tuner) (1.0.0)\n",
            "Requirement already satisfied: google-auth-oauthlib<0.5,>=0.4.1 in /usr/local/lib/python3.7/dist-packages (from tensorboard->keras_tuner) (0.4.6)\n",
            "Requirement already satisfied: tensorboard-plugin-wit>=1.6.0 in /usr/local/lib/python3.7/dist-packages (from tensorboard->keras_tuner) (1.8.1)\n",
            "Requirement already satisfied: markdown>=2.6.8 in /usr/local/lib/python3.7/dist-packages (from tensorboard->keras_tuner) (3.3.6)\n",
            "Requirement already satisfied: werkzeug>=0.11.15 in /usr/local/lib/python3.7/dist-packages (from tensorboard->keras_tuner) (1.0.1)\n",
            "Requirement already satisfied: google-auth<3,>=1.6.3 in /usr/local/lib/python3.7/dist-packages (from tensorboard->keras_tuner) (1.35.0)\n",
            "Requirement already satisfied: tensorboard-data-server<0.7.0,>=0.6.0 in /usr/local/lib/python3.7/dist-packages (from tensorboard->keras_tuner) (0.6.1)\n",
            "Requirement already satisfied: grpcio>=1.24.3 in /usr/local/lib/python3.7/dist-packages (from tensorboard->keras_tuner) (1.44.0)\n",
            "Requirement already satisfied: protobuf>=3.6.0 in /usr/local/lib/python3.7/dist-packages (from tensorboard->keras_tuner) (3.17.3)\n",
            "Requirement already satisfied: wheel>=0.26 in /usr/local/lib/python3.7/dist-packages (from tensorboard->keras_tuner) (0.37.1)\n",
            "Requirement already satisfied: cachetools<5.0,>=2.0.0 in /usr/local/lib/python3.7/dist-packages (from google-auth<3,>=1.6.3->tensorboard->keras_tuner) (4.2.4)\n",
            "Requirement already satisfied: rsa<5,>=3.1.4 in /usr/local/lib/python3.7/dist-packages (from google-auth<3,>=1.6.3->tensorboard->keras_tuner) (4.8)\n",
            "Requirement already satisfied: pyasn1-modules>=0.2.1 in /usr/local/lib/python3.7/dist-packages (from google-auth<3,>=1.6.3->tensorboard->keras_tuner) (0.2.8)\n",
            "Requirement already satisfied: requests-oauthlib>=0.7.0 in /usr/local/lib/python3.7/dist-packages (from google-auth-oauthlib<0.5,>=0.4.1->tensorboard->keras_tuner) (1.3.1)\n",
            "Requirement already satisfied: importlib-metadata>=4.4 in /usr/local/lib/python3.7/dist-packages (from markdown>=2.6.8->tensorboard->keras_tuner) (4.11.3)\n",
            "Requirement already satisfied: zipp>=0.5 in /usr/local/lib/python3.7/dist-packages (from importlib-metadata>=4.4->markdown>=2.6.8->tensorboard->keras_tuner) (3.7.0)\n",
            "Requirement already satisfied: typing-extensions>=3.6.4 in /usr/local/lib/python3.7/dist-packages (from importlib-metadata>=4.4->markdown>=2.6.8->tensorboard->keras_tuner) (3.10.0.2)\n",
            "Requirement already satisfied: pyasn1<0.5.0,>=0.4.6 in /usr/local/lib/python3.7/dist-packages (from pyasn1-modules>=0.2.1->google-auth<3,>=1.6.3->tensorboard->keras_tuner) (0.4.8)\n",
            "Requirement already satisfied: oauthlib>=3.0.0 in /usr/local/lib/python3.7/dist-packages (from requests-oauthlib>=0.7.0->google-auth-oauthlib<0.5,>=0.4.1->tensorboard->keras_tuner) (3.2.0)\n"
          ]
        }
      ],
      "source": [
        "!pip install keras_tuner"
      ]
    },
    {
      "cell_type": "code",
      "source": [
        "import tensorflow as tf\n",
        "from tensorflow import keras\n",
        "from keras import layers\n",
        "\n",
        "import keras_tuner as kt\n",
        "from matplotlib import pyplot\n",
        "from keras.datasets import cifar10\n",
        "from keras.models import Sequential\n",
        "from keras.layers import Conv2D\n",
        "from keras.layers import MaxPooling2D\n",
        "from keras.layers import Dense\n",
        "from keras.layers import Flatten\n",
        "from tensorflow.keras.optimizers import SGD\n",
        "from keras_tuner.applications import HyperResNet\n",
        "import numpy as np\n",
        "(x_train, y_train), (x_test, y_test) = keras.datasets.cifar10.load_data() \n",
        "assert x_test.shape == ( 10000 , 32 , 32 , 3)\n",
        "assert x_train.shape == ( 50000 , 32 , 32 , 3)\n",
        "assert y_test.shape == ( 10000 , 1)\n",
        "assert y_train.shape == ( 50000 , 1)\n",
        "class_count = 10 "
      ],
      "metadata": {
        "id": "-kjemcoOKxYl"
      },
      "execution_count": null,
      "outputs": []
    },
    {
      "cell_type": "markdown",
      "source": [
        "Normalize Data"
      ],
      "metadata": {
        "id": "QhEO9X9CtANZ"
      }
    },
    {
      "cell_type": "code",
      "source": [
        "x_train = np.expand_dims(x_train,-1).astype(\"float32\")/255.0\n",
        "x_test = np.expand_dims(x_test,-1).astype(\"float32\")/255.0\n",
        "y_train = keras.utils.to_categorical(y_train,class_count)\n",
        "y_test = keras.utils.to_categorical(y_test,class_count)\n",
        "\n",
        "\n",
        "print(x_train.shape)\n",
        "print(y_train.shape)"
      ],
      "metadata": {
        "colab": {
          "base_uri": "https://localhost:8080/"
        },
        "id": "zSS2DYoeK7zw",
        "outputId": "d5bd8e9c-e4d0-4c9e-fb78-a684e18589f1"
      },
      "execution_count": null,
      "outputs": [
        {
          "output_type": "stream",
          "name": "stdout",
          "text": [
            "(50000, 32, 32, 3, 1)\n",
            "(50000, 10)\n"
          ]
        }
      ]
    },
    {
      "cell_type": "markdown",
      "source": [
        "Create Base Model"
      ],
      "metadata": {
        "id": "r2gd6Z79tMa4"
      }
    },
    {
      "cell_type": "code",
      "source": [
        "def create_model():\n",
        "\tmodel = Sequential()\n",
        "\tmodel.add(Conv2D(32, (3, 3), activation='relu', kernel_initializer='he_uniform', padding='same', input_shape=(32, 32, 3)))\n",
        "\tmodel.add(Conv2D(32, (3, 3), activation='relu', kernel_initializer='he_uniform', padding='same'))\n",
        "\tmodel.add(MaxPooling2D((2, 2)))\n",
        "\tmodel.add(Flatten())\n",
        "\tmodel.add(Dense(128, activation='relu', kernel_initializer='he_uniform'))\n",
        "\tmodel.add(Dense(10, activation='softmax'))\n",
        "\n",
        "\topt = SGD(lr=0.001, momentum=0.9)\n",
        "\tmodel.compile(optimizer=opt, loss='categorical_crossentropy', metrics=['accuracy'])\n",
        "\treturn model"
      ],
      "metadata": {
        "id": "QBWRdiYKSE2G"
      },
      "execution_count": null,
      "outputs": []
    },
    {
      "cell_type": "code",
      "source": [
        "model1 = create_model()\n",
        "model1.fit(x_train,y_train,epochs = 2, validation_split = .2, batch_size = 100)"
      ],
      "metadata": {
        "colab": {
          "base_uri": "https://localhost:8080/"
        },
        "id": "lZ7vGXOeSPPK",
        "outputId": "94caa467-6454-4f29-fc7c-7bb3f1c34f25"
      },
      "execution_count": null,
      "outputs": [
        {
          "output_type": "stream",
          "name": "stderr",
          "text": [
            "/usr/local/lib/python3.7/dist-packages/keras/optimizer_v2/gradient_descent.py:102: UserWarning: The `lr` argument is deprecated, use `learning_rate` instead.\n",
            "  super(SGD, self).__init__(name, **kwargs)\n"
          ]
        },
        {
          "output_type": "stream",
          "name": "stdout",
          "text": [
            "Epoch 1/2\n",
            "400/400 [==============================] - 130s 323ms/step - loss: 1.8930 - accuracy: 0.3255 - val_loss: 1.6976 - val_accuracy: 0.4022\n",
            "Epoch 2/2\n",
            "400/400 [==============================] - 120s 301ms/step - loss: 1.6023 - accuracy: 0.4341 - val_loss: 1.5887 - val_accuracy: 0.4354\n"
          ]
        },
        {
          "output_type": "execute_result",
          "data": {
            "text/plain": [
              "<keras.callbacks.History at 0x7f2886f83a10>"
            ]
          },
          "metadata": {},
          "execution_count": 58
        }
      ]
    },
    {
      "cell_type": "markdown",
      "source": [
        "Epoch 1/2\n",
        "400/400 [==============================] - 120s 300ms/step - loss: 1.8632 - accuracy: 0.3395 - val_loss: 1.6842 - val_accuracy: 0.3983\n",
        "\n",
        "Epoch 2/2\n",
        "400/400 [==============================] - 120s 300ms/step - loss: 1.5738 - accuracy: 0.4454 - val_loss: 1.5424 - val_accuracy: 0.4501"
      ],
      "metadata": {
        "id": "AF7EMXHArXBd"
      }
    },
    {
      "cell_type": "markdown",
      "source": [
        "For my baseline model, it acheived a test accuracy of 45.01%\n",
        "This is a good start, but to improve this score, we must add in more extra dense layers and convolution layers."
      ],
      "metadata": {
        "id": "7LAY1dbbvKjg"
      }
    },
    {
      "cell_type": "code",
      "source": [
        "def create_model2():\n",
        "\tmodel = Sequential()\n",
        "\tmodel.add(Conv2D(32, (3, 3), activation='relu', kernel_initializer='he_uniform', padding='same', input_shape=(32, 32, 3)))\n",
        "\tmodel.add(Conv2D(32, (3, 3), activation='relu', kernel_initializer='he_uniform', padding='same'))\n",
        "\tmodel.add(MaxPooling2D((2, 2)))\n",
        " \n",
        " \n",
        "\tmodel.add(Conv2D(32, (3, 3), activation='relu', kernel_initializer='he_uniform', padding='same'))\n",
        "\tmodel.add(Conv2D(32, (3, 3), activation='relu', kernel_initializer='he_uniform', padding='same'))\n",
        "\tmodel.add(MaxPooling2D((2, 2)))\n",
        " \n",
        "\tmodel.add(Conv2D(32, (3, 3), activation='relu', kernel_initializer='he_uniform', padding='same'))\n",
        "\tmodel.add(Conv2D(32, (3, 3), activation='relu', kernel_initializer='he_uniform', padding='same'))\n",
        "\tmodel.add(MaxPooling2D((2, 2)))\n",
        " \n",
        "\tmodel.add(Flatten())\n",
        "\tmodel.add(Dense(128, activation='relu', kernel_initializer='he_uniform'))\n",
        "\tmodel.add(Dense(10, activation='softmax'))\n",
        "\n",
        "\topt = SGD(lr=0.001, momentum=0.9)\n",
        "\tmodel.compile(optimizer=opt, loss='categorical_crossentropy', metrics=['accuracy'])\n",
        "\treturn model"
      ],
      "metadata": {
        "id": "1vZG_kA6xHwM"
      },
      "execution_count": null,
      "outputs": []
    },
    {
      "cell_type": "code",
      "source": [
        "model2 = create_model2()\n",
        "model2.fit(x_train,y_train,epochs = 3, validation_split = .2, batch_size = 50)"
      ],
      "metadata": {
        "colab": {
          "base_uri": "https://localhost:8080/"
        },
        "id": "4da5HoVSx-KP",
        "outputId": "65d27492-b088-499a-f9fc-acf65dab9393"
      },
      "execution_count": null,
      "outputs": [
        {
          "output_type": "stream",
          "name": "stderr",
          "text": [
            "/usr/local/lib/python3.7/dist-packages/keras/optimizer_v2/gradient_descent.py:102: UserWarning: The `lr` argument is deprecated, use `learning_rate` instead.\n",
            "  super(SGD, self).__init__(name, **kwargs)\n"
          ]
        },
        {
          "output_type": "stream",
          "name": "stdout",
          "text": [
            "Epoch 1/3\n",
            "800/800 [==============================] - 192s 240ms/step - loss: 1.8625 - accuracy: 0.3218 - val_loss: 1.6129 - val_accuracy: 0.4133\n",
            "Epoch 2/3\n",
            "800/800 [==============================] - 186s 233ms/step - loss: 1.5259 - accuracy: 0.4476 - val_loss: 1.5500 - val_accuracy: 0.4433\n",
            "Epoch 3/3\n",
            "800/800 [==============================] - 184s 230ms/step - loss: 1.3964 - accuracy: 0.4987 - val_loss: 1.3565 - val_accuracy: 0.5160\n"
          ]
        },
        {
          "output_type": "execute_result",
          "data": {
            "text/plain": [
              "<keras.callbacks.History at 0x7f2886dc0ed0>"
            ]
          },
          "metadata": {},
          "execution_count": 60
        }
      ]
    },
    {
      "cell_type": "markdown",
      "source": [
        "For my second model, I increased the amount of epochs and lowered the batch size.\n",
        "\n",
        "Epoch 1/3\n",
        "800/800 [==============================] - 181s 226ms/step - loss: 1.8501 - accuracy: 0.3307 - val_loss: 1.5716 - val_accuracy: 0.4267\n",
        "\n",
        "Epoch 2/3\n",
        "800/800 [==============================] - 186s 233ms/step - loss: 1.4856 - accuracy: 0.4601 - val_loss: 1.3915 - val_accuracy: 0.4964\n",
        "\n",
        "Epoch 3/3\n",
        "800/800 [==============================] - 187s 233ms/step - loss: 1.3532 - accuracy: 0.5178 - val_loss: 1.3534 - val_accuracy: 0.5127"
      ],
      "metadata": {
        "id": "k26gw-Ep5VHV"
      }
    },
    {
      "cell_type": "markdown",
      "source": [
        "Tuner\n",
        "\n",
        "The tuner took a long time to run, and after I ran it I broke the code. However, I did learn that I need to increase the epochs significantly. "
      ],
      "metadata": {
        "id": "wlqfCItV6nof"
      }
    },
    {
      "cell_type": "code",
      "source": [
        "#tuner = kt.RandomSearch(\n",
        "#    create_model,\n",
        "#    objective=\"val_accuracy\",\n",
        "#    max_trials=2,\n",
        "#    overwrite=True,\n",
        "#    directory=\"my_dir\",\n",
        "#    project_name=\"MachineLearningProject2\",\n",
        "#)\n",
        "#stop_early = tf.keras.callbacks.EarlyStopping(monitor = 'val_loss', patience = 5)\n",
        "\n",
        "#tuner.search(x_train, y_train, epochs =4, validation_split = .2, callbacks =[stop_early])\n",
        "\n",
        "#best_hps = tuner.get_best_hyperparameters(num_trials = 1)[0]\n",
        "\n",
        "#print(\"Layers: \" + best_hps.get('num_layers'))\n",
        "#print(\"Units_0: \" + best_hps.get('units_0'))\n",
        "#print(\"Units_1: \" + best_hps.get('units_1'))\n",
        "#print(\"Units_2: \" + best_hps.get('units_2'))\n",
        "#print(\"Lr: \" + best_hps.get('lr'))\n",
        "#print(\"dropout: \" + best_hps.get('dropout'))\n",
        "#print(\"Activation: \" + best_hps.get('activation'))\n",
        "#print(\"Epochs: \" + best_hps.get('tuner/epochs'))\n"
      ],
      "metadata": {
        "id": "VPiYCzE51axl"
      },
      "execution_count": null,
      "outputs": []
    },
    {
      "cell_type": "code",
      "source": [
        "def create_model3():\n",
        "\tmodel = Sequential()\n",
        "\tmodel.add(Conv2D(32, (3, 3), activation='relu', kernel_initializer='he_uniform', padding='same', input_shape=(32, 32, 3)))\n",
        "\tmodel.add(Conv2D(32, (3, 3), activation='relu', kernel_initializer='he_uniform', padding='same'))\n",
        "\tmodel.add(MaxPooling2D((2, 2)))\n",
        "\tmodel.add(Flatten())\n",
        "\tmodel.add(Dense(128, activation='relu', kernel_initializer='he_uniform'))\n",
        "\tmodel.add(Dense(10, activation='softmax'))\n",
        "\n",
        "\topt = SGD(lr=0.001, momentum=0.9)\n",
        "\tmodel.compile(optimizer=opt, loss='categorical_crossentropy', metrics=['accuracy'])\n",
        "\treturn model"
      ],
      "metadata": {
        "id": "WOmdeArP8uIY"
      },
      "execution_count": null,
      "outputs": []
    },
    {
      "cell_type": "code",
      "source": [
        "model3 = create_model3()\n",
        "model3.fit(x_train,y_train,epochs = 10, validation_split = .2, batch_size = 50)"
      ],
      "metadata": {
        "colab": {
          "base_uri": "https://localhost:8080/"
        },
        "id": "WRgDsQcm82IS",
        "outputId": "ab6a3a0f-0537-4047-98fa-1e5cd8308dd3"
      },
      "execution_count": null,
      "outputs": [
        {
          "output_type": "stream",
          "name": "stderr",
          "text": [
            "/usr/local/lib/python3.7/dist-packages/keras/optimizer_v2/gradient_descent.py:102: UserWarning: The `lr` argument is deprecated, use `learning_rate` instead.\n",
            "  super(SGD, self).__init__(name, **kwargs)\n"
          ]
        },
        {
          "output_type": "stream",
          "name": "stdout",
          "text": [
            "Epoch 1/10\n",
            "800/800 [==============================] - 131s 163ms/step - loss: 1.7703 - accuracy: 0.3731 - val_loss: 1.5783 - val_accuracy: 0.4368\n",
            "Epoch 2/10\n",
            "800/800 [==============================] - 130s 162ms/step - loss: 1.4426 - accuracy: 0.4871 - val_loss: 1.4077 - val_accuracy: 0.5091\n",
            "Epoch 3/10\n",
            "800/800 [==============================] - 130s 162ms/step - loss: 1.2770 - accuracy: 0.5490 - val_loss: 1.2641 - val_accuracy: 0.5589\n",
            "Epoch 4/10\n",
            "800/800 [==============================] - 129s 161ms/step - loss: 1.1574 - accuracy: 0.5922 - val_loss: 1.1762 - val_accuracy: 0.5925\n",
            "Epoch 5/10\n",
            "800/800 [==============================] - 128s 161ms/step - loss: 1.0617 - accuracy: 0.6293 - val_loss: 1.1705 - val_accuracy: 0.5917\n",
            "Epoch 6/10\n",
            "800/800 [==============================] - 128s 161ms/step - loss: 0.9881 - accuracy: 0.6561 - val_loss: 1.0698 - val_accuracy: 0.6305\n",
            "Epoch 7/10\n",
            "800/800 [==============================] - 129s 161ms/step - loss: 0.9213 - accuracy: 0.6805 - val_loss: 1.0458 - val_accuracy: 0.6380\n",
            "Epoch 8/10\n",
            "800/800 [==============================] - 129s 161ms/step - loss: 0.8632 - accuracy: 0.7012 - val_loss: 1.0458 - val_accuracy: 0.6348\n",
            "Epoch 9/10\n",
            "800/800 [==============================] - 129s 162ms/step - loss: 0.8180 - accuracy: 0.7153 - val_loss: 1.0275 - val_accuracy: 0.6460\n",
            "Epoch 10/10\n",
            "800/800 [==============================] - 129s 162ms/step - loss: 0.7643 - accuracy: 0.7354 - val_loss: 0.9721 - val_accuracy: 0.6670\n"
          ]
        },
        {
          "output_type": "execute_result",
          "data": {
            "text/plain": [
              "<keras.callbacks.History at 0x7f2880451810>"
            ]
          },
          "metadata": {},
          "execution_count": 63
        }
      ]
    },
    {
      "cell_type": "markdown",
      "source": [
        "Epoch 1/10\n",
        "800/800 [==============================] - 130s 161ms/step - loss: 1.7543 - accuracy: 0.3732 - val_loss: 1.5349 - val_accuracy: 0.4472\n",
        "\n",
        "Epoch 2/10\n",
        "800/800 [==============================] - 128s 160ms/step - loss: 1.3931 - accuracy: 0.5024 - val_loss: 1.3896 - val_accuracy: 0.5182\n",
        "\n",
        "Epoch 3/10\n",
        "800/800 [==============================] - 131s 164ms/step - loss: 1.2511 - accuracy: 0.5580 - val_loss: 1.2748 - val_accuracy: 0.5487\n",
        "\n",
        "Epoch 4/10\n",
        "800/800 [==============================] - 129s 161ms/step - loss: 1.1532 - accuracy: 0.5925 - val_loss: 1.1749 - val_accuracy: 0.5874\n",
        "\n",
        "Epoch 5/10\n",
        "800/800 [==============================] - 128s 160ms/step - loss: 1.0617 - accuracy: 0.6266 - val_loss: 1.1340 - val_accuracy: 0.6066\n",
        "\n",
        "Epoch 6/10\n",
        "800/800 [==============================] - 129s 161ms/step - loss: 0.9868 - accuracy: 0.6551 - val_loss: 1.0975 - val_accuracy: 0.6204\n",
        "\n",
        "Epoch 7/10\n",
        "800/800 [==============================] - 127s 158ms/step - loss: 0.9215 - accuracy: 0.6767 - val_loss: 1.0591 - val_accuracy: 0.6281\n",
        "\n",
        "Epoch 8/10\n",
        "800/800 [==============================] - 127s 158ms/step - loss: 0.8582 - accuracy: 0.7033 - val_loss: 1.0176 - val_accuracy: 0.6468\n",
        "\n",
        "Epoch 9/10\n",
        "800/800 [==============================] - 126s 158ms/step - loss: 0.8021 - accuracy: 0.7222 - val_loss: 1.0067 - val_accuracy: 0.6529\n",
        "\n",
        "Epoch 10/10\n",
        "800/800 [==============================] - 126s 157ms/step - loss: 0.7470 - accuracy: 0.7400 - val_loss: 0.9939 - val_accuracy: 0.6551"
      ],
      "metadata": {
        "id": "JOokJie6B7se"
      }
    },
    {
      "cell_type": "markdown",
      "source": [
        "Model 3 has a significant improvement over the previous 2 models. It has an accuracy of 74% and a val_accuracy of 65.51%\n",
        "\n",
        "Increasing the Epoch had a significant effect on the outcome."
      ],
      "metadata": {
        "id": "sRR8ZyaVCH95"
      }
    }
  ]
}